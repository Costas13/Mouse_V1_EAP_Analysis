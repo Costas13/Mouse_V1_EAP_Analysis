{
 "cells": [
  {
   "cell_type": "code",
   "execution_count": 1,
   "metadata": {},
   "outputs": [],
   "source": [
    "# ==================================================================================\n",
    "# Function: Read EAP matrix, extract EAP features and run EAP feature clusters\n",
    "# The code reproduces Fig.2d\n",
    "# @Author: Yina Wei, 2021\n",
    "#==================================================================================\n",
    "import pandas as pd\n",
    "from pandas import Series, DataFrame\n",
    "import numpy as np\n",
    "import matplotlib.pyplot as plt\n",
    "import seaborn as sns\n",
    "from sklearn.cluster import KMeans\n",
    "from time import time\n",
    "from scipy import stats\n",
    "import ecp_func as ef # import self-written sub functions  \n",
    "\n",
    "plt.rcParams.update({'font.size': 9})\n",
    "sns.set_style(\"whitegrid\", {'axes.grid' : False})\n",
    "my_pal_FSRS = {0:[5/255.0,23/255.0,182/255.0],1:[23/255.0,163/255.0,95/255.0],2:[213/255.0,9/255.0,21/255.0],3:[254/255.0,200/255.0,46/255.0]}\n",
    "fs_pal=['steelblue','seagreen','mediumpurple']\n",
    "rs_pal=['crimson','darkorange','saddlebrown']"
   ]
  },
  {
   "cell_type": "code",
   "execution_count": 2,
   "metadata": {},
   "outputs": [],
   "source": [
    "# The set of parameters \n"
   ]
  },
  {
   "cell_type": "markdown",
   "metadata": {},
   "source": [
    "## Load  EAP waveform"
   ]
  },
  {
   "cell_type": "code",
   "execution_count": 3,
   "metadata": {},
   "outputs": [
    {
     "name": "stdout",
     "output_type": "stream",
     "text": [
      "(1313, 82, 40)\n",
      "[75. 16. 27. 42. 36. 73. 53. 62. 47. 40. 32. 62. 36. 84. 58. 67. 41. 52.\n",
      " 68. 49. 96. 58. 54. 53. 32.]\n",
      "25\n"
     ]
    }
   ],
   "source": [
    "# File paths\n",
    "path = 'data/wt_EAP_data_info/'\n",
    "savedir='data/wt_EAP_data_info/'\n",
    "savefigdir='Figures/'\n",
    "\n",
    "# session_id \n",
    "session_id=[732592105,739448407,744228101,750332458,750749662,754312389,754829445,757216464,757970808,759883607,761418226,\n",
    " 763673393,766640955,767871931,768515987,771160300,771990200,774875821,778240327,778998620,779839471,781842082,793224716,799864342,847657808]\n",
    "\n",
    "unit_num = np.zeros(len(session_id))\n",
    "for i in range(len(session_id)):\n",
    "    with open(path+str(session_id[i])+'.npy', 'rb') as np_file: # EAP waveform\n",
    "        data=np.load(np_file)\n",
    "        unit_num[i]=data.shape[0]\n",
    "        if i==0:\n",
    "            waveform0=data\n",
    "        else:\n",
    "            waveform0=np.concatenate((waveform0,data))\n",
    "print(waveform0.shape)\n",
    "print(unit_num)\n",
    "[N,T,channels]=waveform0.shape\n",
    "print(len(session_id))"
   ]
  },
  {
   "cell_type": "code",
   "execution_count": 4,
   "metadata": {},
   "outputs": [
    {
     "name": "stdout",
     "output_type": "stream",
     "text": [
      "1287\n",
      "1287\n"
     ]
    }
   ],
   "source": [
    "fr0 = []\n",
    "depth0 = []\n",
    "unit_id0 =[]\n",
    "good0=[]\n",
    "for i in range(len(session_id)):\n",
    "    data = pd.read_csv(path+str(session_id[i])+'unitinfo.csv',index_col=0)\n",
    "   # print len(data['fr'])\n",
    "    fr0.append(data['fr_5min'])\n",
    "    depth0.append(data['depth'])\n",
    "    unit_id0.append(data['units'])\n",
    "    good0.append(data['good'])\n",
    "fr0 = np.array(np.concatenate(fr0))\n",
    "depth0 = np.array(np.concatenate(depth0))\n",
    "good0= np.array(np.concatenate(good0))\n",
    "unit_id0= np.array(np.concatenate(unit_id0))\n",
    "\n",
    "bad_unit = np.array([915960371, 915961088, 915960802, 915960838, 951868026, 951868229,951868527, 951869594, 951816073, 951002808, 951814989, 951815653,\n",
    "                     951815724,951815709, 951816276, 951816492, 951877391, 951796229,951768170,951013844,951026044,951027930,951896781,951896911,951800909,950938909,\n",
    "                     950935800,950929267,950927995,950935732,950929283,950930487,950931566,951801768,951762773,951095926,951768557,950928046])\n",
    "\n",
    "for i in range(len(unit_id0)):\n",
    "    if unit_id0[i] in bad_unit:\n",
    "        good0[i]=0\n",
    "\n",
    "good = np.where(good0==1.0)[0]\n",
    "fr0=fr0[good]\n",
    "depth0=depth0[good]\n",
    "unit_id0=unit_id0[good]\n",
    "waveform=waveform0[good,:,:]\n",
    "[N,T,channels]=waveform.shape\n",
    "print(len(fr0))\n",
    "print(N)"
   ]
  },
  {
   "cell_type": "code",
   "execution_count": 5,
   "metadata": {},
   "outputs": [
    {
     "name": "stdout",
     "output_type": "stream",
     "text": [
      "20\n",
      "[-100  -80  -60  -40  -20    0   20   40   60   80  100]\n"
     ]
    }
   ],
   "source": [
    "eleRowN = int(channels/2)\n",
    "print(eleRowN)\n",
    "sampling_rate=30000 #sampleing rate is 30kHz\n",
    "fs=sampling_rate\n",
    "dt=1.0/sampling_rate\n",
    "t_STA=np.array(range(0,T))*dt*1000-0.6 \n",
    "Th=5\n",
    "dist=np.array(range(-100,101,20))\n",
    "print(dist)"
   ]
  },
  {
   "cell_type": "markdown",
   "metadata": {},
   "source": [
    "## Calculate EAP features"
   ]
  },
  {
   "cell_type": "code",
   "execution_count": 6,
   "metadata": {},
   "outputs": [],
   "source": [
    "features0=np.zeros((len(dist),len(good),4))     # dist*num_cells*num_features  #dist only includes -100,-80,-60,-40,-20,0,20,40,60,80,100\n",
    "all_features0 = np.zeros((len(good),11))        # each cell has 11 features\n",
    "max_waveform0 = np.zeros((len(good),T))         # save the maximal EAP waveform\n",
    "norm_oneColEAP = {}\n",
    "badch=[]\n",
    "saveEAP = 0 # 0: dont save EAP, 1: save EAP \n",
    "for num in range(len(unit_id0)):\n",
    "\n",
    "    EAP=waveform[num,:,:]  # amplify =0.195, the EAP of the index[k] cell \n",
    "    dist0 = np.zeros((eleRowN,1))\n",
    "    \n",
    "    #Select the one column\n",
    "    oneCol_EAP = np.zeros((eleRowN,T))  # channels * times -- one column\n",
    "    for i in range(0,eleRowN):\n",
    "        temp0 = ef.butter_highpass_filter(np.transpose(EAP[:,i*2]),300,fs)  # even index\n",
    "        oneCol_EAP[i,:]= temp0\n",
    "        dist0[i]=i*20    \n",
    "    \n",
    "    # dist = 0, the channel cloest to soma, which have the largest negative peak\n",
    "    maxCh = 10\n",
    "    maxCh0=np.unravel_index(oneCol_EAP.argmin(),oneCol_EAP.shape)[0]\n",
    "    if maxCh0!=10:\n",
    "        badch.append(num)\n",
    "    dist0 = np.squeeze(dist0)- dist0[maxCh]\n",
    "    indx = np.where(np.logical_and(dist0>=-100,dist0<=100))[0]\n",
    "    \n",
    "    if saveEAP==1:\n",
    "        f=1/abs(min(oneCol_EAP[maxCh,:]))*3\n",
    "\n",
    "        fig, ax = plt.subplots(figsize=(2.5*0.46,3.8*0.5))\n",
    "        ax=plt.subplot(111)\n",
    "        for i in range(maxCh-7,maxCh+8): \n",
    "            if i==maxCh:\n",
    "                plt.plot(t_STA,oneCol_EAP[i,:]*f+i,color='grey',linewidth='2') \n",
    "            elif abs(min(oneCol_EAP[i,:]))>=abs(min(oneCol_EAP[maxCh,:]))*0.12:\n",
    "                plt.plot(t_STA,oneCol_EAP[i,:]*f+i,color='grey',linewidth='1') \n",
    "            else:\n",
    "                plt.plot(t_STA,oneCol_EAP[i,:]*f+i,color='grey',linewidth='1') \n",
    "        plt.yticks([])\n",
    "        plt.xticks([])\n",
    "        simpleaxis_all(ax)\n",
    "        plt.title(str(unit_id0[num]),fontsize=9)\n",
    "        fig.savefig(savedir+'EAP/'+str(unit_id0[num])+'.eps',bbox_inches = 'tight')\n",
    "        fig.savefig(savedir+'EAP/'+str(unit_id0[num])+'.pdf',bbox_inches = 'tight')\n",
    "        plt.close()\n",
    "   \n",
    "    #Extract EAP features\n",
    "    #Extract featrues based on EAP data as the distance changes\n",
    "    A,W,TPW,t_NegPeak=ef.cal_EAP_features(t_STA,oneCol_EAP,0.01)       #oneCol_VeSTA,channels*times    \n",
    "    t_NegPeak = t_NegPeak-t_NegPeak[maxCh]  # set the maximal channel as 0\n",
    "    \n",
    "    norm_oneColEAP[unit_id0[num]]=oneCol_EAP/max(A)\n",
    "    \n",
    "    # Preprocess the data of A,W,TPW,t_NegPeak, deal with unphysiological values\n",
    "    dth = 100  \n",
    "    idx_below = np.where(np.logical_and(np.logical_and(dist0<=0,dist0>=-dth),A>=0.0001))[0]\n",
    "    idx_above = np.where(np.logical_and(np.logical_and(dist0>=0,dist0<=dth),A>=0.0001))[0]\n",
    "        \n",
    "    W[idx_below]=ef.outlier_below(dist0[idx_below],W[idx_below],0.3)\n",
    "    W[idx_above]=ef.outlier_above(dist0[idx_above],W[idx_above],0.3)\n",
    "    TPW[idx_below]=ef.outlier_below(dist0[idx_below],TPW[idx_below],0.3)\n",
    "    TPW[idx_above]=ef.outlier_above(dist0[idx_above],TPW[idx_above],0.3)\n",
    "    t_NegPeak[idx_below]=ef.outlier_below(dist0[idx_below],t_NegPeak[idx_below],0.3)\n",
    "    t_NegPeak[idx_above]=ef.outlier_above(dist0[idx_above],t_NegPeak[idx_above],0.3)     \n",
    "    \n",
    "    features0[:,num,0]=A[indx]\n",
    "    features0[:,num,1]=W[indx]\n",
    "    features0[:,num,2]=TPW[indx]\n",
    "    features0[:,num,3]=t_NegPeak[indx]\n",
    "    \n",
    "    #one-channel-features:'A','W','TPW','PTratio','REP'\n",
    "    max_waveform0[num,:] = oneCol_EAP[maxCh,:]/abs(min(oneCol_EAP[maxCh,:]))\n",
    "    max_waveform0[num,:] = max_waveform0[num,:]-max_waveform0[num,0]\n",
    "    one_channel_feature  = ef.cal_one_ch_features(t_STA,oneCol_EAP[maxCh,:])\n",
    "\n",
    "    # multi-channel-features:'spread_below','spread_above','W_below','W_above','PL_below','PL_above'\n",
    "    dth = 100\n",
    "    spread_below,spread_above,W_below,W_above,PL_below,PL_above,intercept0,intercept1,intercept4,intercept5=ef.cal_multi_ch_features(dist0,A,W,t_NegPeak,maxCh,dth,Th,0.005,3)\n",
    "    all_features0[num,:]=one_channel_feature+[spread_below,spread_above,W_below,W_above,PL_below,PL_above] # one channel features + multiple channel features"
   ]
  },
  {
   "cell_type": "code",
   "execution_count": 7,
   "metadata": {},
   "outputs": [
    {
     "name": "stdout",
     "output_type": "stream",
     "text": [
      "1204\n"
     ]
    }
   ],
   "source": [
    "allindex = np.arange(len(all_features0))\n",
    "\n",
    "neg_time=[]\n",
    "for i in range(len(max_waveform0)):\n",
    "    neg_time.append(ef.find_neg_peak_time(max_waveform0[i,:],t_STA))\n",
    "    \n",
    "outlier=np.unique(np.concatenate([ef.outlier_index(all_features0[:,1]),ef.outlier_index(all_features0[:,2]),ef.outlier_index(all_features0[:,4]),ef.outlier_index(all_features0[:,7]),ef.outlier_index(all_features0[:,8]),ef.outlier_index(all_features0[:,9]),ef.outlier_index(all_features0[:,10])]))\n",
    "remove_indices = np.unique(np.concatenate([badch,outlier,np.where(abs(np.array(neg_time))>0.1)[0],np.where(all_features0[:,0]<15)[0],np.where(all_features0[:,0]>300)[0]]))\n",
    "\n",
    "allindex = np.arange(len(all_features0))\n",
    "index0 = np.setxor1d(np.indices(allindex.shape), remove_indices)\n",
    "\n",
    "all_features = all_features0[index0,:]\n",
    "features = features0[:,index0,:]\n",
    "max_waveform = max_waveform0[index0,:]\n",
    "\n",
    "FR = fr0[index0]\n",
    "depth_info = depth0[index0]\n",
    "unit_id = unit_id0[index0]\n",
    "\n",
    "print(len(index0))"
   ]
  },
  {
   "cell_type": "code",
   "execution_count": 8,
   "metadata": {},
   "outputs": [],
   "source": [
    "df0 = pd.DataFrame(all_features,columns=['A','W','TPW','PTratio','REP','spread_below','spread_above','W_below','W_above','PL_below','PL_above'])\n",
    "df0.insert(0, column='Spread',value=df0['spread_above'].values+df0['spread_below'].values)\n",
    "df0.insert(0, column='Diff_spread',value=df0['spread_above'].values-df0['spread_below'].values)\n",
    "df0.insert(0, column='FR',value=FR)\n",
    "PL_dist=ef.sym_dist_fc(df0['PL_below'].values,df0['PL_above'].values)"
   ]
  },
  {
   "cell_type": "markdown",
   "metadata": {},
   "source": [
    "## Clustering between FS and RS based on one-channel features"
   ]
  },
  {
   "cell_type": "code",
   "execution_count": 9,
   "metadata": {},
   "outputs": [],
   "source": [
    "X_r = df0[['TPW','REP']].values   # one-channel features\n",
    "X_r2 = ef.pre_process(X_r)\n",
    "\n",
    "numk=9\n",
    "[K2,wcss2,fk2] = ef.selectionK_kmeans(X_r2,numk) # calculate elbow method and density function\n",
    "elbow_idx2  = ef.findElbow(wcss2)"
   ]
  },
  {
   "cell_type": "code",
   "execution_count": 10,
   "metadata": {},
   "outputs": [
    {
     "data": {
      "image/png": "[encoded data removed]",
      "text/plain": [
       "<Figure size 46.08x69.12 with 2 Axes>"
      ]
     },
     "metadata": {},
     "output_type": "display_data"
    }
   ],
   "source": [
    "fig, ax = plt.subplots(figsize=(0.64,1.2*0.8))\n",
    "ax=plt.subplot(211)\n",
    "#Plotting the Elbow Curve by k(number of clusters)\n",
    "plt.plot(K2,wcss2/max(wcss2),'k-',markerfacecolor='None',linewidth=1)\n",
    "plt.plot([K2[elbow_idx2],K2[elbow_idx2]],[0,1],'r--',linewidth=1)\n",
    "plt.ylabel('WCSS')\n",
    "#plt.title('Elbow Method',fontsize=9)\n",
    "ef.simpleaxis(ax)\n",
    "plt.xlim(0,8)\n",
    "ax.set_xticklabels([])\n",
    "ax.set_xticks(range(0,8,2))\n",
    "ax=plt.subplot(212)\n",
    "#Plotting the Density Function fk by k(number of clusters)\n",
    "plt.plot(K2,fk2,'k-',markerfacecolor=\"None\",linewidth=1)\n",
    "plt.plot([K2[fk2.argmin()],K2[fk2.argmin()]],[0,1.5],'r--',linewidth=1)\n",
    "plt.xlabel('# Clusters')\n",
    "plt.ylabel('f(K)')\n",
    "#plt.title('Density Function')\n",
    "ef.simpleaxis(ax)\n",
    "plt.xlim(0,8)\n",
    "ax.set_xticks(range(0,8,2))\n",
    "plt.ylim(0.5,1.2)\n",
    "\n",
    "plt.subplots_adjust(top=0.92, bottom=0.08, left=0.10, right=0.95, hspace=0.5,wspace=0.5)"
   ]
  },
  {
   "cell_type": "code",
   "execution_count": 11,
   "metadata": {},
   "outputs": [
    {
     "name": "stdout",
     "output_type": "stream",
     "text": [
      "[1 1 1 ... 1 0 0]\n",
      "281\n",
      "923\n"
     ]
    }
   ],
   "source": [
    "# K-means\n",
    "kmeans2 = KMeans(init='k-means++',n_clusters=2,n_init=1000,random_state=11400)\n",
    "kmeans2.fit(X_r2)\n",
    "label2 =  kmeans2.labels_\n",
    "print(label2)\n",
    "\n",
    "print(len(np.where(label2==0)[0]))\n",
    "print(len(np.where(label2==1)[0]))\n",
    "\n",
    "if 'cell_type' in df0.keys():\n",
    "    df0=df0.drop(columns=['cell_type'])\n",
    "df0.insert(0, column=\"cell_type\",value = label2)"
   ]
  },
  {
   "cell_type": "code",
   "execution_count": 12,
   "metadata": {},
   "outputs": [
    {
     "data": {
      "image/png": "[encoded data removed]",
      "text/plain": [
       "<Figure size 252x86.4 with 1 Axes>"
      ]
     },
     "metadata": {},
     "output_type": "display_data"
    }
   ],
   "source": [
    "fig, ax = plt.subplots(figsize=(3.5,1.2))\n",
    "ax =plt.subplot(122)\n",
    "ef.plot_shaded_errorbar(ax,t_STA,max_waveform[label2==0,:],my_pal_FSRS[0])\n",
    "ef.plot_shaded_errorbar(ax,t_STA,max_waveform[label2==1,:],my_pal_FSRS[2])\n",
    "ax.axis('tight')\n",
    "ef.clean_axis(ax)\n",
    "#plt.xlabel('Time (ms)')"
   ]
  },
  {
   "cell_type": "code",
   "execution_count": 13,
   "metadata": {},
   "outputs": [
    {
     "data": {
      "text/plain": [
       "(0.05, 0.6)"
      ]
     },
     "execution_count": 13,
     "metadata": {},
     "output_type": "execute_result"
    },
    {
     "data": {
      "image/png": "[encoded data removed]",
      "text/plain": [
       "<Figure size 80.64x69.12 with 1 Axes>"
      ]
     },
     "metadata": {},
     "output_type": "display_data"
    }
   ],
   "source": [
    "fig, ax = plt.subplots(figsize=(1.6*0.7,1.2*0.8))\n",
    "ax.scatter(all_features[label2==1,2],all_features[label2==1,4], color=my_pal_FSRS[2],s=1,label='RS')\n",
    "ax.scatter(all_features[label2==0,2],all_features[label2==0,4], color=my_pal_FSRS[0],s=1,label='FS')\n",
    "plt.xlabel('TPW (ms)')\n",
    "plt.ylabel('REP (ms)')\n",
    "ef.simpleaxis(ax)\n",
    "plt.xlim([0,1])\n",
    "plt.ylim([0.05,0.6])"
   ]
  },
  {
   "cell_type": "markdown",
   "metadata": {},
   "source": [
    "## Further Clustering FS into FS1,FS2,FS3, and RS into RS1,RS2,RS3"
   ]
  },
  {
   "cell_type": "code",
   "execution_count": 14,
   "metadata": {},
   "outputs": [],
   "source": [
    "X_r_sub = df0[['PL_below','PL_above']].values   # Multichannel features\n",
    "Multi_X_r=ef.pre_process(X_r_sub)"
   ]
  },
  {
   "cell_type": "code",
   "execution_count": 15,
   "metadata": {},
   "outputs": [],
   "source": [
    "X_r_sub0 = Multi_X_r[label2==0,:]\n",
    "idx_sub0 = np.where(label2==0)[0]\n",
    "\n",
    "X_r_sub1 = Multi_X_r[label2==1,:]\n",
    "idx_sub1 = np.where(label2==1)[0]\n",
    "\n",
    "numk=9\n",
    "[K0,wcss0,fk0] = ef.selectionK_kmeans(X_r_sub0,numk)\n",
    "elbow_idx0  = ef.findElbow(wcss0)\n",
    "\n",
    "[K1,wcss1,fk1] = ef.selectionK_kmeans(X_r_sub1,numk)\n",
    "elbow_idx1  = ef.findElbow(wcss1)"
   ]
  },
  {
   "cell_type": "code",
   "execution_count": 16,
   "metadata": {},
   "outputs": [
    {
     "data": {
      "image/png": "[encoded data removed]",
      "text/plain": [
       "<Figure size 46.08x69.12 with 2 Axes>"
      ]
     },
     "metadata": {},
     "output_type": "display_data"
    },
    {
     "data": {
      "image/png": "[encoded data removed]",
      "text/plain": [
       "<Figure size 46.08x69.12 with 2 Axes>"
      ]
     },
     "metadata": {},
     "output_type": "display_data"
    }
   ],
   "source": [
    "fig, ax = plt.subplots(figsize=(0.64,1.2*0.8))\n",
    "ax=plt.subplot(211)\n",
    "#Plotting the Elbow Curve by k(number of clusters)\n",
    "plt.plot(K0,wcss0/max(wcss0),'k-',markerfacecolor='None',linewidth=1)\n",
    "plt.plot([K0[elbow_idx0],K0[elbow_idx0]],[0,1],'r--',linewidth=1)\n",
    "plt.ylabel('WCSS')\n",
    "#plt.title('Elbow Method',fontsize=9)\n",
    "ef.simpleaxis(ax)\n",
    "plt.xlim(0,8)\n",
    "ax.set_xticklabels([])\n",
    "ax.set_xticks(range(0,8,2))\n",
    "ax=plt.subplot(212)\n",
    "#Plotting the Density Function fk by k(number of clusters)\n",
    "plt.plot(K0,fk0,'k-',markerfacecolor=\"None\",linewidth=1)\n",
    "plt.plot([K0[fk0.argmin()],K0[fk0.argmin()]],[0,1.5],'r--',linewidth=1)\n",
    "plt.xlabel('# Clusters')\n",
    "plt.ylabel('f(K)')\n",
    "ef.simpleaxis(ax)\n",
    "plt.xlim(0,8)\n",
    "ax.set_xticks(range(0,8,2))\n",
    "plt.ylim(0.8,1.2)\n",
    "plt.subplots_adjust(top=0.92, bottom=0.08, left=0.10, right=0.95, hspace=0.5,wspace=0.5)\n",
    "\n",
    "fig, ax = plt.subplots(figsize=(0.64,1.2*0.8))\n",
    "ax=plt.subplot(211)\n",
    "#Plotting the Elbow Curve by k(number of clusters)\n",
    "plt.plot(K1,wcss1/max(wcss1),'k-',markerfacecolor='None',linewidth=1)\n",
    "plt.plot([K1[elbow_idx1],K1[elbow_idx1]],[0,1],'r--',linewidth=1)\n",
    "plt.ylabel('WCSS')\n",
    "#plt.title('Elbow Method',fontsize=9)\n",
    "ef.simpleaxis(ax)\n",
    "plt.xlim(0,8)\n",
    "ax.set_xticklabels([])\n",
    "ax.set_xticks(range(0,8,2))\n",
    "ax=plt.subplot(212)\n",
    "#Plotting the Density Function fk by k(number of clusters)\n",
    "plt.plot(K1,fk1,'k-',markerfacecolor=\"None\",linewidth=1)\n",
    "plt.plot([K1[fk1.argmin()],K1[fk1.argmin()]],[0,1.5],'r--',linewidth=1)\n",
    "plt.xlabel('# Clusters')\n",
    "plt.ylabel('f(K)')\n",
    "#plt.title('Density Function')\n",
    "ef.simpleaxis(ax)\n",
    "plt.xlim(0,8)\n",
    "ax.set_xticks(range(0,8,2))\n",
    "plt.ylim(0.8,1.2)\n",
    "plt.subplots_adjust(top=0.92, bottom=0.08, left=0.10, right=0.95, hspace=0.5,wspace=0.5)"
   ]
  },
  {
   "cell_type": "code",
   "execution_count": 17,
   "metadata": {},
   "outputs": [],
   "source": [
    "nc0=fk0.argmin()+1\n",
    "nc1=fk1.argmin()+1"
   ]
  },
  {
   "cell_type": "code",
   "execution_count": 18,
   "metadata": {},
   "outputs": [],
   "source": [
    "# K-means\n",
    "kmeans_sub0 = KMeans(init='k-means++',n_clusters=nc0,n_init=1000,random_state=110)\n",
    "kmeans_sub0.fit(X_r_sub0)\n",
    "label_sub0 =  kmeans_sub0.labels_\n",
    "#print(label_sub0)\n",
    "\n",
    "kmeans_sub1 = KMeans(init='k-means++',n_clusters=nc1,n_init=1000,random_state=1001)\n",
    "kmeans_sub1.fit(X_r_sub1)\n",
    "label_sub1 =  kmeans_sub1.labels_\n",
    "#print(label_sub1)"
   ]
  },
  {
   "cell_type": "code",
   "execution_count": 19,
   "metadata": {
    "scrolled": true
   },
   "outputs": [
    {
     "data": {
      "text/plain": [
       "(-4.0, 7.0)"
      ]
     },
     "execution_count": 19,
     "metadata": {},
     "output_type": "execute_result"
    },
    {
     "data": {
      "image/png": "[encoded data removed]",
      "text/plain": [
       "<Figure size 80.64x69.12 with 1 Axes>"
      ]
     },
     "metadata": {},
     "output_type": "display_data"
    }
   ],
   "source": [
    "fig, ax = plt.subplots(figsize=(1.4*0.8,1.2*0.8))\n",
    "\n",
    "for i in range(nc0):\n",
    "    ax.scatter(all_features[idx_sub0[label_sub0==i],9],all_features[idx_sub0[label_sub0==i],10], color=fs_pal[i],s=1,label='RS')\n",
    "plt.xlabel('$1/V_{below}$ (ms/mm)')\n",
    "plt.ylabel('$1/V_{above}$ (ms/mm)')\n",
    "ef.simpleaxis(ax)\n",
    "plt.plot([-10,10],[10,-10],'--',color='black',linewidth=1)\n",
    "plt.xlim([-7,4])\n",
    "plt.ylim([-4,7])"
   ]
  },
  {
   "cell_type": "code",
   "execution_count": 20,
   "metadata": {},
   "outputs": [
    {
     "data": {
      "text/plain": [
       "(-4.0, 7.0)"
      ]
     },
     "execution_count": 20,
     "metadata": {},
     "output_type": "execute_result"
    },
    {
     "data": {
      "image/png": "[encoded data removed]",
      "text/plain": [
       "<Figure size 80.64x69.12 with 1 Axes>"
      ]
     },
     "metadata": {},
     "output_type": "display_data"
    }
   ],
   "source": [
    "fig, ax = plt.subplots(figsize=(1.4*0.8,1.2*0.8))\n",
    "\n",
    "for i in range(nc1):\n",
    "    ax.scatter(all_features[idx_sub1[label_sub1==i],9],all_features[idx_sub1[label_sub1==i],10], color=rs_pal[i],s=1,label='RS')\n",
    "plt.xlabel('$1/V_{below}$ (ms/mm)')\n",
    "plt.ylabel('$1/V_{above}$ (ms/mm)')\n",
    "ef.simpleaxis(ax)\n",
    "plt.plot([-10,10],[10,-10],'--',color='black',linewidth=1)\n",
    "plt.xlim([-7,4])\n",
    "plt.ylim([-4,7])"
   ]
  },
  {
   "cell_type": "code",
   "execution_count": 21,
   "metadata": {},
   "outputs": [],
   "source": [
    "nf=features[:,:,3]\n",
    "z=nf.copy()\n",
    "z[~np.isnan(nf)]=stats.zscore(nf[~np.isnan(nf)])"
   ]
  },
  {
   "cell_type": "code",
   "execution_count": 22,
   "metadata": {},
   "outputs": [
    {
     "data": {
      "image/png": "[encoded data removed]",
      "text/plain": [
       "<Figure size 170.496x63.36 with 3 Axes>"
      ]
     },
     "metadata": {},
     "output_type": "display_data"
    }
   ],
   "source": [
    "my_pal=fs_pal\n",
    "fig, ax = plt.subplots(figsize=(3.7*0.8*0.8,1.1*0.8))\n",
    "for i in range(nc0):    \n",
    "    ax =plt.subplot(1,3,i+1)\n",
    "    dpl0 = np.ma.masked_array(np.squeeze(z[:,idx_sub0[label_sub0==i]]),np.squeeze(features[:,idx_sub0[label_sub0==i],0])<Th)\n",
    "    ef.plot_errorbar_vertical(ax,dist,np.transpose(dpl0),my_pal[i]) \n",
    "    plt.plot(dpl0,dist,'darkgrey',zorder=-10,alpha=0.8,linewidth=1)\n",
    "    plt.ylim([-100,100])\n",
    "    ax.set_xlim([-3,5])\n",
    "    if i==1:\n",
    "        plt.xlabel('Propagation time (zscore)')\n",
    "    if i==0:\n",
    "        plt.ylabel('Distance (${\\mu}$m)')\n",
    "    else:\n",
    "        ax.set_yticklabels([])\n",
    "plt.subplots_adjust(top=0.92, bottom=0.08, left=0.10, right=0.95, hspace=1,\n",
    "                wspace=0.2)       "
   ]
  },
  {
   "cell_type": "code",
   "execution_count": 23,
   "metadata": {},
   "outputs": [
    {
     "data": {
      "image/png": "[encoded data removed]",
      "text/plain": [
       "<Figure size 170.496x63.36 with 3 Axes>"
      ]
     },
     "metadata": {},
     "output_type": "display_data"
    }
   ],
   "source": [
    "my_pal=rs_pal\n",
    "fig, ax = plt.subplots(figsize=(3.7*0.8*0.8,1.1*0.8))\n",
    "for i in range(nc1):    \n",
    "    ax =plt.subplot(1,3,i+1)\n",
    "    dpl0 = np.ma.masked_array(np.squeeze(z[:,idx_sub1[label_sub1==i]]),np.squeeze(features[:,idx_sub1[label_sub1==i],0])<Th)\n",
    "    ef.plot_errorbar_vertical(ax,dist,np.transpose(dpl0),my_pal[i]) \n",
    "    plt.plot(dpl0,dist,'darkgrey',zorder=-10,alpha=0.8,linewidth=1)\n",
    "    plt.ylim([-100,100])\n",
    "    ax.set_xlim([-3,5])\n",
    "    if i==1:\n",
    "        plt.xlabel('Propagation time (zscore)')\n",
    "    if i==0:\n",
    "        plt.ylabel('Distance (${\\mu}$m)')\n",
    "    else:\n",
    "        ax.set_yticklabels([])\n",
    "plt.subplots_adjust(top=0.92, bottom=0.08, left=0.10, right=0.95, hspace=1,\n",
    "                wspace=0.2)    "
   ]
  },
  {
   "cell_type": "code",
   "execution_count": 24,
   "metadata": {
    "scrolled": true
   },
   "outputs": [
    {
     "name": "stdout",
     "output_type": "stream",
     "text": [
      "[0. 1. 2. 3. 4. 5.]\n"
     ]
    }
   ],
   "source": [
    "label_new = np.zeros(len(FR))\n",
    "for i in range(nc0):\n",
    "    label_new[idx_sub0[label_sub0==i]]=i\n",
    "for i in range(nc1):\n",
    "    label_new[idx_sub1[label_sub1==i]]=nc0+i\n",
    "print(np.unique(label_new))\n",
    "\n",
    "df = df0.copy()#pd.DataFrame(all_features,columns=['A','W','TPW','PTratio','REP','Spread','Diff_spread','W_below','W_above','PL_below','PL_above'])\n",
    "df.insert(0, column=\"cell_type0\",value = label_new)\n",
    "df.insert(0,column='depth',value=depth_info)\n",
    "df.insert(0,column='unit_id',value=unit_id)\n",
    "#df.to_csv('data/exp_features.csv') #79"
   ]
  }
 ],
 "metadata": {
  "kernelspec": {
   "display_name": "Python 3",
   "language": "python",
   "name": "python3"
  },
  "language_info": {
   "codemirror_mode": {
    "name": "ipython",
    "version": 3
   },
   "file_extension": ".py",
   "mimetype": "text/x-python",
   "name": "python",
   "nbconvert_exporter": "python",
   "pygments_lexer": "ipython3",
   "version": "3.7.10"
  }
 },
 "nbformat": 4,
 "nbformat_minor": 2
}
