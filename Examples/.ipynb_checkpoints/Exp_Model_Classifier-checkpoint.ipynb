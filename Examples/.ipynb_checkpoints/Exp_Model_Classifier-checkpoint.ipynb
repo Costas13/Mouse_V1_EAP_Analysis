{
 "cells": [
  {
   "cell_type": "code",
   "execution_count": 1,
   "metadata": {},
   "outputs": [],
   "source": [
    "# =============================================================================================================\n",
    "# Function: train experimental data, predict model data; or train model data, predict experimental data \n",
    "# The code reproduces Fig.3c,f,g,h.\n",
    "# @Author: Yina Wei, 2021\n",
    "#==============================================================================================================\n",
    "import pandas as pd\n",
    "from pandas import Series, DataFrame\n",
    "import numpy as np\n",
    "import matplotlib.pyplot as plt\n",
    "import seaborn as sns\n",
    "from scipy.io import loadmat\n",
    "from scipy import stats\n",
    "from sklearn.utils import resample\n",
    "from sankey import sankey\n",
    "import ecp_func as ef # import self-written sub functions  \n",
    "%matplotlib inline\n",
    "import random\n",
    "\n",
    "plt.rcParams.update({'font.size': 9})\n",
    "sns.set_style(\"whitegrid\", {'axes.grid' : False})\n",
    "apsp_pal={0:[52/255.0,58/255.0,195/255.0],1:[220/255.0,53/255.0,57/255.0]}\n",
    "cmap = sns.cubehelix_palette(light=1, as_cmap=True)\n",
    "\n",
    "colorDict = {\n",
    "    'FS':'steelblue',\n",
    "    'RS':'crimson',\n",
    "    'AP':[52/255.0,58/255.0,195/255.0],#'steelblue',\n",
    "    'SP':[220/255.0,53/255.0,57/255.0],#'crimson',\n",
    "}\n",
    "\n",
    "cre_pal={    \n",
    "    'Pvalb':'lightskyblue',\n",
    "    'Sst':'thistle',\n",
    "    'Nr5a1': 'peachpuff',\n",
    "    'Rorb':  'khaki',\n",
    "    'Scnn1a': 'lightcoral',#'#ffb3e6',\n",
    "    'RS':'crimson',\n",
    "    'FS':'steelblue'\n",
    "}"
   ]
  },
  {
   "cell_type": "code",
   "execution_count": 2,
   "metadata": {},
   "outputs": [],
   "source": [
    "# The setting of parameters \n",
    "random_num = 100  # The number of random_state for seperate the data into test and train data \n",
    "rep_num = 100     # The number of resampling "
   ]
  },
  {
   "cell_type": "markdown",
   "metadata": {},
   "source": [
    "## Load data"
   ]
  },
  {
   "cell_type": "code",
   "execution_count": 3,
   "metadata": {},
   "outputs": [],
   "source": [
    "savefigdir = 'Figures/'\n",
    "df_exp = pd.read_csv('data/exp_features.csv',index_col=0) # Load experimental data \n",
    "df_model = pd.read_csv('data/model_features.csv',index_col=0)  # Load Model data\n",
    "#print(df_model.keys())\n",
    "\n",
    "#Experimental features and cell types\n",
    "one_ch_exp =  df_exp[['TPW','REP']].values\n",
    "matrix_exp = df_exp[['PL_below','PL_above']].values\n",
    "label_exp = np.array(df_exp['cell_type0'].values)\n",
    "label2_exp = np.array(df_exp['cell_type'].values)\n",
    "FS = np.where(label2_exp==0)[0]\n",
    "RS = np.where(label2_exp==1)[0]\n",
    "\n",
    "#Model features and cell types\n",
    "one_ch_model =df_model[['TPW','REP']].values\n",
    "matrix_model = df_model[['PL_below','PL_above']].values\n",
    "cell_type = np.array(df_model['cell_type'].values)  # 0-Aspiny; 1-Spiny\n",
    "SP=np.where(df_model['cell_type']==1)[0]\n",
    "AP=np.where(df_model['cell_type']==0)[0]"
   ]
  },
  {
   "cell_type": "markdown",
   "metadata": {},
   "source": [
    "# zscore plot of experimental data and model data"
   ]
  },
  {
   "cell_type": "code",
   "execution_count": 4,
   "metadata": {},
   "outputs": [
    {
     "name": "stdout",
     "output_type": "stream",
     "text": [
      "36\n",
      "1846\n"
     ]
    },
    {
     "data": {
      "image/png": "[encoded data removed]",
      "text/plain": [
       "<Figure size 158.4x129.6 with 1 Axes>"
      ]
     },
     "metadata": {},
     "output_type": "display_data"
    }
   ],
   "source": [
    "# Upsample minority class\n",
    "SP_upsampled = resample(SP, \n",
    "                        replace=True,     # sample with replacement\n",
    "                        n_samples=len(AP)-len(SP),    # to match majority class\n",
    "                        random_state=27) # reproducible results\n",
    "\n",
    "# Combine majority class with upsampled minority class\n",
    "model_upsampled = np.concatenate([np.concatenate([SP, AP]),SP_upsampled])\n",
    "print(len(model_upsampled))\n",
    "X_model = stats.zscore(df_model[['TPW','REP']].iloc[model_upsampled].values)\n",
    "Y_model = df_model['cell_type'].iloc[model_upsampled].values\n",
    "\n",
    "\n",
    "# Upsample minority class\n",
    "FS_upsampled = resample(FS, \n",
    "                        replace=True,     # sample with replacement\n",
    "                        n_samples=len(RS)-len(FS),    # to match majority class\n",
    "                        random_state=27) # reproducible results\n",
    "# Combine majority class with upsampled minority class\n",
    "exp_upsampled = np.concatenate([np.concatenate([RS, FS]),FS_upsampled])\n",
    "print(len(exp_upsampled))\n",
    "X_exp = stats.zscore(df_exp[['TPW','REP']].iloc[exp_upsampled].values)\n",
    "Y_exp = df_exp['cell_type'].iloc[exp_upsampled].values\n",
    "\n",
    "\n",
    "\n",
    "fig, ax = plt.subplots(figsize=(2.2,1.8))\n",
    "ax=plt.subplot(111)\n",
    "ax.scatter(X_exp[Y_exp==1, 0], X_exp[Y_exp==1, 1], color=\"darkgrey\",s=10,label='RS')\n",
    "ax.scatter(X_exp[Y_exp==0, 0], X_exp[Y_exp==0, 1], color=\"lightgrey\",s=10,label='FS')\n",
    "ax.scatter(X_model[Y_model==1, 0], X_model[Y_model==1, 1], color=[220/255.0,53/255.0,57/255.0],s=10,label='SP')\n",
    "ax.scatter(X_model[Y_model==0, 0], X_model[Y_model==0, 1], color=[52/255.0,58/255.0,195/255.0],s=10,label='AP')\n",
    "plt.xlabel('TPW (z score)')\n",
    "plt.ylabel('REP (z score)')\n",
    "plt.xlim(-2.5,3.5)\n",
    "plt.ylim(-4,5)\n",
    "ef.simpleaxis(ax)\n",
    "#fig.savefig(savefigdir+'APSP_model_aa_EAP.pdf',bbox_inches = 'tight')\n",
    "#fig.savefig(savefigdir+'APSP_model_aa_EAP.eps',bbox_inches = 'tight')"
   ]
  },
  {
   "cell_type": "markdown",
   "metadata": {},
   "source": [
    "## Model based classifier"
   ]
  },
  {
   "cell_type": "code",
   "execution_count": 5,
   "metadata": {},
   "outputs": [],
   "source": [
    "# The initilized parameters for model-based classifier\n",
    "accuracy_XY_me = 0\n",
    "conf_matrix_XY_me = np.array([[0, 0],[0, 0]])\n",
    "w_me=[]\n",
    "Coef_name_me=[]\n",
    "y_exp_dictlist = [dict((j,0) for j in range(2)) for x in range(len(df_exp))]\n",
    "random.seed(100)\n",
    "for ii in range(rep_num):\n",
    "    # Upsample minority class\n",
    "    SP_upsampled = resample(SP, \n",
    "                            replace=True,       # sample with replacement\n",
    "                            n_samples=len(AP)-len(SP),    # to match majority class\n",
    "                            random_state=27+ii) # reproducible results\n",
    "    # Combine majority class with upsampled minority class\n",
    "    model_upsampled = np.concatenate([range(len(df_model)),SP_upsampled])\n",
    "    #print(len(model_upsampled))\n",
    "    X_model = stats.zscore(df_model[['TPW','REP']].iloc[model_upsampled].values)\n",
    "    Y_model = df_model['cell_type'].iloc[model_upsampled].values\n",
    "\n",
    "\n",
    "    # Upsample minority class\n",
    "    FS_upsampled = resample(FS, \n",
    "                            replace=True,        # sample with replacement\n",
    "                            n_samples=len(RS)-len(FS),    # to match majority class\n",
    "                            random_state=27+ii)  # reproducible results\n",
    "    # Combine majority class with upsampled minority class\n",
    "    exp_upsampled = np.concatenate([range(len(df_exp)),FS_upsampled])\n",
    "    #print(len(exp_upsampled))\n",
    "    X_exp = stats.zscore(df_exp[['TPW','REP']].iloc[exp_upsampled].values)\n",
    "    Y_exp = df_exp['cell_type'].iloc[exp_upsampled].values\n",
    "    \n",
    "    # Model-based classifier: Training model, predict exp\n",
    "    accuracy_XY1,conf_matrix_XY1,accuracy_newXY1,conf_matrix_newXY1,w1,Coef_name1,dict_y_pred1=ef.classifier(X_model,Y_model,X_exp,Y_exp,'svm',random_num)\n",
    "    accuracy_XY_me = accuracy_XY_me + accuracy_XY1\n",
    "    conf_matrix_XY_me = conf_matrix_XY_me + conf_matrix_XY1\n",
    "    w_me.append(w1)\n",
    "    Coef_name_me.append(Coef_name1)\n",
    "    for k in range(len(df_exp)):\n",
    "        y_exp_dictlist[k][0]+=dict_y_pred1[k][0]\n",
    "        y_exp_dictlist[k][1]+=dict_y_pred1[k][1]"
   ]
  },
  {
   "cell_type": "code",
   "execution_count": 6,
   "metadata": {},
   "outputs": [
    {
     "name": "stdout",
     "output_type": "stream",
     "text": [
      "The accuracy of test data set:81.67111111111099%\n"
     ]
    },
    {
     "data": {
      "image/png": "[encoded data removed]",
      "text/plain": [
       "<Figure size 129.6x93.6 with 2 Axes>"
      ]
     },
     "metadata": {},
     "output_type": "display_data"
    }
   ],
   "source": [
    "# Confusion Matrix\n",
    "df_cm_XY = pd.DataFrame(conf_matrix_XY_me/rep_num, \n",
    "  index = [ 'AP', 'SP'],\n",
    "  columns = ['AP', 'SP'])\n",
    "print('The accuracy of test data set:'+str(accuracy_XY_me/rep_num*100)+'%')\n",
    "fig, ax = plt.subplots(figsize=(1.8,1.3))\n",
    "ax.set_aspect(1)\n",
    "res = sns.heatmap(df_cm_XY, annot=True, vmin=0.0, vmax=100, fmt='.2f', cmap=cmap)"
   ]
  },
  {
   "cell_type": "code",
   "execution_count": 7,
   "metadata": {},
   "outputs": [
    {
     "data": {
      "text/plain": [
       "Text(0, 0.5, '${\\\\beta}$ Coeff')"
      ]
     },
     "execution_count": 7,
     "metadata": {},
     "output_type": "execute_result"
    },
    {
     "data": {
      "image/png": "[encoded data removed]",
      "text/plain": [
       "<Figure size 72x93.6 with 1 Axes>"
      ]
     },
     "metadata": {},
     "output_type": "display_data"
    }
   ],
   "source": [
    "# Beta Coefficient\n",
    "df=pd.DataFrame(np.mean(np.array(w_me),axis=0),columns=['Beta'])\n",
    "df.insert(0, column=\"Coef_name\",value = Coef_name1)\n",
    "fig, ax = plt.subplots(figsize=(1.0,1.3))\n",
    "ax = sns.barplot(x=\"Coef_name\", y=\"Beta\", data=df,color='skyblue')\n",
    "ax.set_xticklabels(['TPW','REP'])\n",
    "ef.simpleaxis(ax)\n",
    "ax.set_xlabel('')                \n",
    "ax.set_ylabel('${\\\\beta}$ Coeff')"
   ]
  },
  {
   "cell_type": "code",
   "execution_count": 8,
   "metadata": {},
   "outputs": [
    {
     "data": {
      "image/png": "[encoded data removed]",
      "text/plain": [
       "<Figure size 72x108 with 1 Axes>"
      ]
     },
     "metadata": {},
     "output_type": "display_data"
    }
   ],
   "source": [
    "# Sankey plot \n",
    "cell_type_str=[]\n",
    "for i in range(len(label2_exp)):\n",
    "    cell_type_str.append('FS' if label2_exp[i]==0 else 'RS')\n",
    "\n",
    "y_pred_str = []\n",
    "for i in range(len(label2_exp)):\n",
    "    d=y_exp_dictlist[i]\n",
    "    maxoccur = max(d.items(), key=lambda x: x[1])[0]\n",
    "    if maxoccur==0 and sum(d.values())!=0:\n",
    "        y_pred_str.append('AP')\n",
    "    elif maxoccur==1 and sum(d.values())!=0:    \n",
    "        y_pred_str.append('SP')\n",
    "    else:\n",
    "        y_pred_str.append('Unsure')\n",
    "df = pd.DataFrame(cell_type_str[::-1],columns=['cell_type'])\n",
    "df.insert(0, column=\"label\",value=y_pred_str[::-1])\n",
    "fig=sankey(df['cell_type'],df['label'],fontsize=9,colorDict=colorDict,fig_size=(1.0,1.5))"
   ]
  },
  {
   "cell_type": "markdown",
   "metadata": {},
   "source": [
    "## Experiment-based classifier"
   ]
  },
  {
   "cell_type": "code",
   "execution_count": 9,
   "metadata": {},
   "outputs": [],
   "source": [
    "# The initilized parameters for experiment-based classifier\n",
    "accuracy_XY_em = 0\n",
    "conf_matrix_XY_em = np.array([[0, 0],[0, 0]])\n",
    "w_em=[]\n",
    "Coef_name_em=[]\n",
    "y_model_dictlist = [dict((j,0) for j in range(2)) for x in range(len(df_model))]\n",
    "\n",
    "random.seed(100)\n",
    "for ii in range(rep_num):\n",
    "    # Upsample minority class\n",
    "    SP_upsampled = resample(SP, \n",
    "                            replace=True,       # sample with replacement\n",
    "                            n_samples=len(AP)-len(SP),    # to match majority class\n",
    "                            random_state=27+ii) # reproducible results\n",
    "    # Combine majority class with upsampled minority class\n",
    "    model_upsampled = np.concatenate([range(len(df_model)),SP_upsampled])\n",
    "    #print(len(model_upsampled))\n",
    "    X_model = stats.zscore(df_model[['TPW','REP']].iloc[model_upsampled].values)\n",
    "    Y_model = df_model['cell_type'].iloc[model_upsampled].values\n",
    "\n",
    "\n",
    "    # Upsample minority class\n",
    "    FS_upsampled = resample(FS, \n",
    "                            replace=True,        # sample with replacement\n",
    "                            n_samples=len(RS)-len(FS),    # to match majority class\n",
    "                            random_state=27+ii)  # reproducible results\n",
    "    # Combine majority class with upsampled minority class\n",
    "    exp_upsampled = np.concatenate([range(len(df_exp)),FS_upsampled])\n",
    "    #print(len(exp_upsampled))\n",
    "    X_exp = stats.zscore(df_exp[['TPW','REP']].iloc[exp_upsampled].values)\n",
    "    Y_exp = df_exp['cell_type'].iloc[exp_upsampled].values\n",
    "    \n",
    "    # Experiment-based classifier: Training exp, predict model\n",
    "    accuracy_XY0,conf_matrix_XY0,accuracy_newXY0,conf_matrix_newXY0,w0,Coef_name0,dict_y_pred0=ef.classifier(X_exp,Y_exp,X_model,Y_model,'svm',random_num)\n",
    "    accuracy_XY_em = accuracy_XY_em + accuracy_XY0\n",
    "    conf_matrix_XY_em = conf_matrix_XY_em + conf_matrix_XY0 \n",
    "    w_em.append(w0)\n",
    "    Coef_name_em.append(Coef_name0)\n",
    "\n",
    "    for k in range(len(df_model)):\n",
    "        y_model_dictlist[k][0]+=dict_y_pred0[k][0]\n",
    "        y_model_dictlist[k][1]+=dict_y_pred0[k][1]"
   ]
  },
  {
   "cell_type": "code",
   "execution_count": 10,
   "metadata": {},
   "outputs": [
    {
     "name": "stdout",
     "output_type": "stream",
     "text": [
      "The accuracy of test data set:99.62160173160166%\n"
     ]
    },
    {
     "data": {
      "image/png": "[encoded data removed]",
      "text/plain": [
       "<Figure size 129.6x93.6 with 2 Axes>"
      ]
     },
     "metadata": {},
     "output_type": "display_data"
    }
   ],
   "source": [
    "# Confusion Matrix\n",
    "df_cm_XY = pd.DataFrame(conf_matrix_XY_em/rep_num, \n",
    "  index = [ 'FS', 'RS'],\n",
    "  columns = ['FS', 'RS'])\n",
    "print('The accuracy of test data set:'+str(accuracy_XY_em/rep_num*100)+'%')\n",
    "fig, ax = plt.subplots(figsize=(1.8,1.3))\n",
    "ax.set_aspect(1)\n",
    "res = sns.heatmap(df_cm_XY, annot=True, vmin=0.0, vmax=100, fmt='.2f',cmap=cmap)"
   ]
  },
  {
   "cell_type": "code",
   "execution_count": 11,
   "metadata": {},
   "outputs": [
    {
     "data": {
      "text/plain": [
       "Text(0, 0.5, '${\\\\beta}$ Coeff')"
      ]
     },
     "execution_count": 11,
     "metadata": {},
     "output_type": "execute_result"
    },
    {
     "data": {
      "image/png": "[encoded data removed]",
      "text/plain": [
       "<Figure size 72x93.6 with 1 Axes>"
      ]
     },
     "metadata": {},
     "output_type": "display_data"
    }
   ],
   "source": [
    "# Beta Coefficient \n",
    "df=pd.DataFrame(np.mean(np.array(w_em),axis=0),columns=['Beta'])\n",
    "df.insert(0, column=\"Coef_name\",value = Coef_name0)\n",
    "fig, ax = plt.subplots(figsize=(1.0,1.3))\n",
    "ax = sns.barplot(x=\"Coef_name\", y=\"Beta\", data=df,color='skyblue')\n",
    "ax.set_xticklabels(['TPW','REP'])\n",
    "ef.simpleaxis(ax)\n",
    "ax.set_xlabel('')                \n",
    "ax.set_ylabel('${\\\\beta}$ Coeff')"
   ]
  },
  {
   "cell_type": "code",
   "execution_count": 12,
   "metadata": {},
   "outputs": [
    {
     "data": {
      "image/png": "[encoded data removed]",
      "text/plain": [
       "<Figure size 72x108 with 1 Axes>"
      ]
     },
     "metadata": {},
     "output_type": "display_data"
    }
   ],
   "source": [
    "cell_type_str=[]\n",
    "for i in range(len(df_model)):\n",
    "    cell_type_str.append('AP' if Y_model[i]==0 else 'SP')\n",
    "\n",
    "y_pred_str = []\n",
    "for i in range(len(df_model)):\n",
    "    d=y_model_dictlist[i]\n",
    "    maxoccur = max(d.items(), key=lambda x: x[1])[0]\n",
    "    if maxoccur==0:\n",
    "        y_pred_str.append('FS')\n",
    "    else:    \n",
    "        y_pred_str.append('RS')\n",
    "        \n",
    "# Sankey plot mapping AP/SP to FS/RS        \n",
    "df = pd.DataFrame(cell_type_str[::-1],columns=['cell_type'])  # [::-1] : reverse the array for plotting\n",
    "df.insert(0, column=\"label\",value=y_pred_str[::-1])\n",
    "fig=sankey(df['cell_type'],df['label'],fontsize=9,colorDict=colorDict,fig_size=(1.0,1.5))"
   ]
  },
  {
   "cell_type": "code",
   "execution_count": 13,
   "metadata": {},
   "outputs": [
    {
     "data": {
      "image/png": "[encoded data removed]",
      "text/plain": [
       "<Figure size 108x252 with 1 Axes>"
      ]
     },
     "metadata": {},
     "output_type": "display_data"
    }
   ],
   "source": [
    "# Sankey plot mapping crelines to FS/RS\n",
    "df = pd.DataFrame(df_model['cre_lines'].values[::-1],columns=['cell_type'])\n",
    "df.insert(0, column=\"label\",value=y_pred_str[::-1])\n",
    "fig=sankey(df['cell_type'],df['label'],fontsize=9,fig_size=(1.5,3.5),colorDict=cre_pal)"
   ]
  }
 ],
 "metadata": {
  "kernelspec": {
   "display_name": "Python 3 (ipykernel)",
   "language": "python",
   "name": "python3"
  },
  "language_info": {
   "codemirror_mode": {
    "name": "ipython",
    "version": 3
   },
   "file_extension": ".py",
   "mimetype": "text/x-python",
   "name": "python",
   "nbconvert_exporter": "python",
   "pygments_lexer": "ipython3",
   "version": "3.9.7"
  }
 },
 "nbformat": 4,
 "nbformat_minor": 2
}
